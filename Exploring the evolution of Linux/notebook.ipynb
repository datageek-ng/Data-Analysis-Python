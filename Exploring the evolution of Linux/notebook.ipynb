{
 "cells": [
  {
   "cell_type": "heading",
   "metadata": {
    "editable": false,
    "tags": [
     "context"
    ],
    "run_control": {
     "frozen": true
    },
    "deletable": false,
    "dc": {
     "key": "4"
    }
   },
   "level": 1,
   "source": [
    "## 1. Introduction\n",
    "<p>Version control repositories like CVS, Subversion or Git can be a real gold mine for software developers. They contain every change to the source code including the date (the \"when\"), the responsible developer (the \"who\"), as well as little message that describes the intention (the \"what\") of a change.</p>\n",
    "<p><a href=\"https://commons.wikimedia.org/wiki/File:Tux.svg\">\n",
    "<img style=\"float: right;margin:5px 20px 5px 1px\" width=\"150px\" src=\"https://s3.amazonaws.com/assets.datacamp.com/production/project_111/img/tux.png\" alt=\"Tux - the Linux mascot\">\n",
    "</a></p>\n",
    "<p>In this notebook, we will analyze the evolution of a very famous open-source project &ndash; the Linux kernel. The Linux kernel is the heart of some Linux distributions like Debian, Ubuntu or CentOS. </p>\n",
    "<p>We get some first insights into the work of the development efforts by </p>\n",
    "<ul>\n",
    "<li>identifying the TOP 10 contributors and</li>\n",
    "<li>visualizing the commits over the years.</li>\n",
    "</ul>\n",
    "<p>Linus Torvalds, the (spoiler alert!) main contributor to the Linux kernel (and also the creator of Git), created a <a href=\"https://github.com/torvalds/linux/\">mirror of the Linux repository on GitHub</a>. It contains the complete history of kernel development for the last 13 years.</p>\n",
    "<p>For our analysis, we will use a Git log file with the following content:</p>"
   ]
  },
  {
   "cell_type": "code",
   "execution_count": 666,
   "metadata": {
    "dc": {
     "key": "4"
    },
    "tags": [
     "sample_code"
    ],
    "trusted": true
   },
   "outputs": [
    {
     "name": "stdout",
     "output_type": "stream",
     "text": [
      "1502382966#Linus Torvalds\n1501368308#Max Gurtovoy\n1501625560#James Smart\n1501625559#James Smart\n1500568442#Martin Wilck\n1502273719#Xin Long\n1502278684#Nikolay Borisov\n1502238384#Girish Moodalbail\n1502228709#Florian Fainelli\n1502223836#Jon Paul Maloy\n"
     ]
    }
   ],
   "source": [
    "# Printing the content of git_log_excerpt.csv\n",
    "# ... YOUR CODE FOR TASK 1 ...\n",
    "import pandas as pd\n",
    "file = open('datasets/git_log_excerpt.csv','r')\n",
    "read_data = file.read()\n",
    "print(read_data)"
   ]
  },
  {
   "cell_type": "markdown",
   "metadata": {
    "editable": false,
    "tags": [
     "context"
    ],
    "run_control": {
     "frozen": true
    },
    "deletable": false,
    "dc": {
     "key": "11"
    }
   },
   "source": [
    "## 2. Reading in the dataset\n<p>The dataset was created by using the command <code>git log --encoding=latin-1 --pretty=\"%at#%aN\"</code>. The <code>latin-1</code> encoded text output was saved in a header-less csv file. In this file, each row is a commit entry with the following information:</p>\n<ul>\n<li><code>timestamp</code>: the time of the commit as a UNIX timestamp in seconds since 1970-01-01 00:00:00 (Git log placeholder \"<code>%at</code>\")</li>\n<li><code>author</code>: the name of the author that performed the commit (Git log placeholder \"<code>%aN</code>\")</li>\n</ul>\n<p>The columns are separated by the number sign <code>#</code>. The complete dataset is in the <code>datasets/</code> directory. It is a <code>gz</code>-compressed csv file named <code>git_log.gz</code>.</p>"
   ]
  },
  {
   "cell_type": "code",
   "execution_count": 668,
   "metadata": {
    "dc": {
     "key": "11"
    },
    "tags": [
     "sample_code"
    ],
    "trusted": true
   },
   "outputs": [
    {
     "data": {
      "text/html": [
       "<div>\n<table border=\"1\" class=\"dataframe\">\n  <thead>\n    <tr style=\"text-align: right;\">\n      <th></th>\n      <th>timestamp</th>\n      <th>author</th>\n    </tr>\n  </thead>\n  <tbody>\n    <tr>\n      <th>0</th>\n      <td>1502826583</td>\n      <td>Linus Torvalds</td>\n    </tr>\n    <tr>\n      <th>1</th>\n      <td>1501749089</td>\n      <td>Adrian Hunter</td>\n    </tr>\n    <tr>\n      <th>2</th>\n      <td>1501749088</td>\n      <td>Adrian Hunter</td>\n    </tr>\n    <tr>\n      <th>3</th>\n      <td>1501882480</td>\n      <td>Kees Cook</td>\n    </tr>\n    <tr>\n      <th>4</th>\n      <td>1497271395</td>\n      <td>Rob Clark</td>\n    </tr>\n  </tbody>\n</table>\n</div>"
      ],
      "text/plain": [
       "    timestamp          author\n0  1502826583  Linus Torvalds\n1  1501749089   Adrian Hunter\n2  1501749088   Adrian Hunter\n3  1501882480       Kees Cook\n4  1497271395       Rob Clark"
      ]
     },
     "execution_count": 668,
     "metadata": {},
     "output_type": "execute_result"
    }
   ],
   "source": [
    "# Loading in the pandas module\n",
    "# ... YOUR CODE FOR TASK 2 ...\n",
    "\n",
    "# Reading in the log file\n",
    "git_log = pd.read_csv( 'datasets/git_log.gz', sep='#', encoding='latin-1', header=None, names=['timestamp', 'author'] )\n",
    "\n",
    "# Printing out the first 5 rows\n",
    "# ... YOUR CODE FOR TASK 2 ...\n",
    "git_log.head()"
   ]
  },
  {
   "cell_type": "markdown",
   "metadata": {
    "editable": false,
    "tags": [
     "context"
    ],
    "run_control": {
     "frozen": true
    },
    "deletable": false,
    "dc": {
     "key": "18"
    }
   },
   "source": [
    "## 3. Getting an overview\n<p>The dataset contains the information about every single code contribution (a \"commit\") to the Linux kernel over the last 13 years. We'll first take a look at the number of authors and their commits to the repository.</p>"
   ]
  },
  {
   "cell_type": "code",
   "execution_count": 670,
   "metadata": {
    "dc": {
     "key": "18"
    },
    "tags": [
     "sample_code"
    ],
    "trusted": true
   },
   "outputs": [
    {
     "name": "stdout",
     "output_type": "stream",
     "text": [
      "17385 authors committed 699071 code changes.\n"
     ]
    }
   ],
   "source": [
    "\n",
    "# calculating number of commits\n",
    "number_of_commits =git_log['timestamp'].size\n",
    "\n",
    "# calculating number of authors\n",
    "number_of_authors = git_log.dropna(how='any')['author'].unique().size\n",
    "\n",
    "# printing out the results\n",
    "print(\"%s authors committed %s code changes.\" % (number_of_authors, number_of_commits))"
   ]
  },
  {
   "cell_type": "markdown",
   "metadata": {
    "editable": false,
    "tags": [
     "context"
    ],
    "run_control": {
     "frozen": true
    },
    "deletable": false,
    "dc": {
     "key": "25"
    }
   },
   "source": [
    "## 4. Finding the TOP 10 contributors\n<p>There are some very important people that changed the Linux kernel very often. To see if there are any bottlenecks, we take a look at the TOP 10 authors with the most commits.</p>"
   ]
  },
  {
   "cell_type": "code",
   "execution_count": 672,
   "metadata": {
    "dc": {
     "key": "25"
    },
    "tags": [
     "sample_code"
    ],
    "trusted": true
   },
   "outputs": [
    {
     "data": {
      "text/html": [
       "<div>\n<table border=\"1\" class=\"dataframe\">\n  <thead>\n    <tr style=\"text-align: right;\">\n      <th></th>\n      <th>timestamp</th>\n    </tr>\n    <tr>\n      <th>author</th>\n      <th></th>\n    </tr>\n  </thead>\n  <tbody>\n    <tr>\n      <th>Linus Torvalds</th>\n      <td>23361</td>\n    </tr>\n    <tr>\n      <th>David S. Miller</th>\n      <td>9106</td>\n    </tr>\n    <tr>\n      <th>Mark Brown</th>\n      <td>6802</td>\n    </tr>\n    <tr>\n      <th>Takashi Iwai</th>\n      <td>6209</td>\n    </tr>\n    <tr>\n      <th>Al Viro</th>\n      <td>6006</td>\n    </tr>\n    <tr>\n      <th>H Hartley Sweeten</th>\n      <td>5938</td>\n    </tr>\n    <tr>\n      <th>Ingo Molnar</th>\n      <td>5344</td>\n    </tr>\n    <tr>\n      <th>Mauro Carvalho Chehab</th>\n      <td>5204</td>\n    </tr>\n    <tr>\n      <th>Arnd Bergmann</th>\n      <td>4890</td>\n    </tr>\n    <tr>\n      <th>Greg Kroah-Hartman</th>\n      <td>4580</td>\n    </tr>\n  </tbody>\n</table>\n</div>"
      ],
      "text/plain": [
       "                       timestamp\nauthor                          \nLinus Torvalds             23361\nDavid S. Miller             9106\nMark Brown                  6802\nTakashi Iwai                6209\nAl Viro                     6006\nH Hartley Sweeten           5938\nIngo Molnar                 5344\nMauro Carvalho Chehab       5204\nArnd Bergmann               4890\nGreg Kroah-Hartman          4580"
      ]
     },
     "execution_count": 672,
     "metadata": {},
     "output_type": "execute_result"
    }
   ],
   "source": [
    "# Identifying the top 10 authors\n",
    "author_commits = git_log.groupby('author').count().sort_values(by='timestamp', ascending=False)\n",
    "top_10_authors = author_commits.head(10)\n",
    "\n",
    "# Listing contents of 'top_10_authors'\n",
    "top_10_authors"
   ]
  },
  {
   "cell_type": "markdown",
   "metadata": {
    "editable": false,
    "tags": [
     "context"
    ],
    "run_control": {
     "frozen": true
    },
    "deletable": false,
    "dc": {
     "key": "32"
    }
   },
   "source": [
    "## 5. Wrangling the data\n<p>For our analysis, we want to visualize the contributions over time. For this, we use the information in the <code>timestamp</code> column to create a time series-based column.</p>"
   ]
  },
  {
   "cell_type": "code",
   "execution_count": 674,
   "metadata": {
    "dc": {
     "key": "32"
    },
    "tags": [
     "sample_code"
    ],
    "trusted": true
   },
   "outputs": [
    {
     "data": {
      "text/html": [
       "<div>\n<table border=\"1\" class=\"dataframe\">\n  <thead>\n    <tr style=\"text-align: right;\">\n      <th></th>\n      <th>timestamp</th>\n      <th>author</th>\n    </tr>\n  </thead>\n  <tbody>\n    <tr>\n      <th>count</th>\n      <td>699071</td>\n      <td>699070</td>\n    </tr>\n    <tr>\n      <th>unique</th>\n      <td>668448</td>\n      <td>17385</td>\n    </tr>\n    <tr>\n      <th>top</th>\n      <td>2008-09-04 05:30:19</td>\n      <td>Linus Torvalds</td>\n    </tr>\n    <tr>\n      <th>freq</th>\n      <td>99</td>\n      <td>23361</td>\n    </tr>\n    <tr>\n      <th>first</th>\n      <td>1970-01-01 00:00:01</td>\n      <td>NaN</td>\n    </tr>\n    <tr>\n      <th>last</th>\n      <td>2037-04-25 08:08:26</td>\n      <td>NaN</td>\n    </tr>\n  </tbody>\n</table>\n</div>"
      ],
      "text/plain": [
       "                  timestamp          author\ncount                699071          699070\nunique               668448           17385\ntop     2008-09-04 05:30:19  Linus Torvalds\nfreq                     99           23361\nfirst   1970-01-01 00:00:01             NaN\nlast    2037-04-25 08:08:26             NaN"
      ]
     },
     "execution_count": 674,
     "metadata": {},
     "output_type": "execute_result"
    }
   ],
   "source": [
    "# converting the timestamp column\n",
    "# ... YOUR CODE FOR TASK 5 ...\n",
    "git_log['timestamp'] = pd.to_datetime(git_log['timestamp'], unit='s')\n",
    "# summarizing the converted timestamp column\n",
    "# ... YOUR CODE FOR TASK 5 ...\n",
    "git_log.describe()\n"
   ]
  },
  {
   "cell_type": "markdown",
   "metadata": {
    "editable": false,
    "tags": [
     "context"
    ],
    "run_control": {
     "frozen": true
    },
    "deletable": false,
    "dc": {
     "key": "39"
    }
   },
   "source": [
    "## 6. Treating wrong timestamps\n<p>As we can see from the results above, some contributors had their operating system's time incorrectly set when they committed to the repository. We'll clean up the <code>timestamp</code> column by dropping the rows with the incorrect timestamps.</p>"
   ]
  },
  {
   "cell_type": "code",
   "execution_count": 676,
   "metadata": {
    "dc": {
     "key": "39"
    },
    "tags": [
     "sample_code"
    ],
    "trusted": true
   },
   "outputs": [
    {
     "data": {
      "text/plain": [
       "count                  698569\nunique                 667977\ntop       2008-09-04 05:30:19\nfreq                       99\nfirst     2005-04-16 22:20:36\nlast      2017-10-03 12:57:00\nName: timestamp, dtype: object"
      ]
     },
     "execution_count": 676,
     "metadata": {},
     "output_type": "execute_result"
    }
   ],
   "source": [
    "\n",
    "\n",
    "\n",
    "# determining the first real commit timestamp\n",
    "first_commit_timestamp = git_log[git_log['author']=='Linus Torvalds'].sort_values(by='timestamp').head(1).reset_index(drop=True).iloc[0,0]\n",
    "# determining the last sensible commit timestamp\n",
    "last_commit_timestamp =  pd.to_datetime('today')\n",
    "\n",
    "# filtering out wrong timestamps\n",
    "corrected_log = git_log[(git_log['timestamp'] >= first_commit_timestamp) & (git_log['timestamp'] <= last_commit_timestamp)]\n",
    "# summarizing the corrected timestamp column\n",
    "\n",
    "corrected_log['timestamp'].describe()"
   ]
  },
  {
   "cell_type": "markdown",
   "metadata": {
    "editable": false,
    "tags": [
     "context"
    ],
    "run_control": {
     "frozen": true
    },
    "deletable": false,
    "dc": {
     "key": "46"
    }
   },
   "source": [
    "## 7. Grouping commits per year\n<p>To find out how the development activity has increased over time, we'll group the commits by year and count them up.</p>"
   ]
  },
  {
   "cell_type": "code",
   "execution_count": 678,
   "metadata": {
    "dc": {
     "key": "46"
    },
    "tags": [
     "sample_code"
    ],
    "trusted": true
   },
   "outputs": [
    {
     "data": {
      "text/html": [
       "<div>\n<table border=\"1\" class=\"dataframe\">\n  <thead>\n    <tr style=\"text-align: right;\">\n      <th></th>\n      <th>author</th>\n    </tr>\n    <tr>\n      <th>timestamp</th>\n      <th></th>\n    </tr>\n  </thead>\n  <tbody>\n    <tr>\n      <th>2005-01-01</th>\n      <td>16229</td>\n    </tr>\n    <tr>\n      <th>2006-01-01</th>\n      <td>29255</td>\n    </tr>\n    <tr>\n      <th>2007-01-01</th>\n      <td>33759</td>\n    </tr>\n    <tr>\n      <th>2008-01-01</th>\n      <td>48847</td>\n    </tr>\n    <tr>\n      <th>2009-01-01</th>\n      <td>52572</td>\n    </tr>\n  </tbody>\n</table>\n</div>"
      ],
      "text/plain": [
       "            author\ntimestamp         \n2005-01-01   16229\n2006-01-01   29255\n2007-01-01   33759\n2008-01-01   48847\n2009-01-01   52572"
      ]
     },
     "execution_count": 678,
     "metadata": {},
     "output_type": "execute_result"
    }
   ],
   "source": [
    "# Counting the no. commits per year\n",
    "commits_per_year = corrected_log.groupby(\n",
    "    pd.Grouper(\n",
    "        key='timestamp', \n",
    "        freq='AS'\n",
    "        )\n",
    "    ).count()\n",
    "\n",
    "# Listing the first rows\n",
    "# ... YOUR CODE FOR TASK 7 ...\n",
    "commits_per_year.head()"
   ]
  },
  {
   "cell_type": "markdown",
   "metadata": {
    "editable": false,
    "tags": [
     "context"
    ],
    "run_control": {
     "frozen": true
    },
    "deletable": false,
    "dc": {
     "key": "53"
    }
   },
   "source": [
    "## 8. Visualizing the history of Linux\n<p>Finally, we'll make a plot out of these counts to better see how the development effort on Linux has increased over the the last few years. </p>"
   ]
  },
  {
   "cell_type": "code",
   "execution_count": 680,
   "metadata": {
    "dc": {
     "key": "53"
    },
    "tags": [
     "sample_code"
    ],
    "trusted": true
   },
   "outputs": [
    {
     "data": {
      "text/plain": [
       "<matplotlib.axes._subplots.AxesSubplot at 0x7f658d412240>"
      ]
     },
     "execution_count": 680,
     "metadata": {},
     "output_type": "execute_result"
    },
    {
     "data": {
      "image/png": "[encoded data removed]",
      "text/plain": [
       "<matplotlib.figure.Figure at 0x7f658d544390>"
      ]
     },
     "metadata": {},
     "output_type": "display_data"
    }
   ],
   "source": [
    "# Setting up plotting in Jupyter notebooks\n",
    "%matplotlib inline\n",
    "\n",
    "# plot the data\n",
    "# ... YOUR CODE FOR TASK 8 ...\n",
    "commits_per_year.plot(kind='line', legend=False, title='commits per year' )"
   ]
  },
  {
   "cell_type": "markdown",
   "metadata": {
    "editable": false,
    "tags": [
     "context"
    ],
    "run_control": {
     "frozen": true
    },
    "deletable": false,
    "dc": {
     "key": "60"
    }
   },
   "source": [
    "## 9.  Conclusion\n<p>Thanks to the solid foundation and caretaking of Linux Torvalds, many other developers are now able to contribute to the Linux kernel as well. There is no decrease of development activity at sight!</p>"
   ]
  },
  {
   "cell_type": "code",
   "execution_count": 682,
   "metadata": {
    "dc": {
     "key": "60"
    },
    "tags": [
     "sample_code"
    ],
    "collapsed": true,
    "trusted": true
   },
   "outputs": [],
   "source": [
    "# calculating or setting the year with the most commits to Linux\n",
    "year_with_most_commits = 2015"
   ]
  }
 ],
 "metadata": {
  "kernelspec": {
   "display_name": "Python 3",
   "name": "python3",
   "language": "python"
  },
  "language_info": {
   "codemirror_mode": {
    "name": "ipython",
    "version": 3
   },
   "name": "python",
   "mimetype": "text/x-python",
   "pygments_lexer": "ipython3",
   "nbconvert_exporter": "python",
   "version": "3.5.2",
   "file_extension": ".py"
  }
 },
 "nbformat": 4,
 "nbformat_minor": 2
}
